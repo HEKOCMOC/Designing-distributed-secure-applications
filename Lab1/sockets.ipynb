{
 "cells": [
  {
   "cell_type": "code",
   "execution_count": 1,
   "id": "583e7365",
   "metadata": {},
   "outputs": [],
   "source": [
    "#jupyter notebook --NotebookApp.iopub_data_rate_limit=1e10"
   ]
  },
  {
   "cell_type": "code",
   "execution_count": 1,
   "id": "6c02d380",
   "metadata": {},
   "outputs": [],
   "source": [
    "import socket\n",
    "import numpy as np\n",
    "import time\n",
    "from PIL import Image, ImageFilter\n",
    "import io"
   ]
  },
  {
   "cell_type": "code",
   "execution_count": 38,
   "id": "591746d5",
   "metadata": {},
   "outputs": [],
   "source": [
    "#импульсный шум\n",
    "def noise(image, prob=0.05):\n",
    "    rnd = np.random.rand(image.shape[0], image.shape[1])\n",
    "    noisy = image.copy()\n",
    "    noisy[rnd < prob] = 0 \n",
    "    noisy[rnd > 1 - prob] = 255\n",
    "    return noisy\n"
   ]
  },
  {
   "cell_type": "code",
   "execution_count": 39,
   "id": "6fe5f45d",
   "metadata": {},
   "outputs": [],
   "source": [
    "#Фильтр\n",
    "def median_filter(a): \n",
    "    b = a.copy() \n",
    "    for i in range(2, len(a)-1):\n",
    "        for j in range(2, len(a[i])-1):\n",
    "            t=[0, 0, 0, 0, 0, 0, 0, 0, 0]\n",
    "            t[0], t[1], t[2], t[3], t[4], t[5], t[6], t[7], t[8] = a[i-1][j-1], a[i-1][j], a[i-1][j+1], a[i][j-1], a[i][j], a[i][j+1], a[i+1][j-1], a[i+1][j], a[i+1][j+1]\n",
    "            for k in range(8): \n",
    "                for l in range(8-k):\n",
    "                    if t[l]>t[l+1]:\n",
    "                        t[l], t[l+1] = t[l+1], t[l]\n",
    "                    \n",
    "            b[i][j]=t[(int)(len(t)/2)] \n",
    "    return b"
   ]
  },
  {
   "cell_type": "code",
   "execution_count": 4,
   "id": "c23b54f4",
   "metadata": {},
   "outputs": [],
   "source": [
    "#из байт в RGB\n",
    "def bytesToRGB(img_bytes):\n",
    "    image = Image.open(io.BytesIO(img_bytes))\n",
    "    return np.array(image)"
   ]
  },
  {
   "cell_type": "code",
   "execution_count": 98,
   "id": "3ccf22cb",
   "metadata": {},
   "outputs": [
    {
     "name": "stdout",
     "output_type": "stream",
     "text": [
      "41834\n"
     ]
    }
   ],
   "source": [
    "HOST = '127.0.0.1'\n",
    "PORT = np.random.randint(100, 65431)\n",
    "print(PORT)"
   ]
  },
  {
   "cell_type": "code",
   "execution_count": 99,
   "id": "ceb20c05",
   "metadata": {},
   "outputs": [
    {
     "name": "stdout",
     "output_type": "stream",
     "text": [
      "Ожидаем соединения\n",
      "Сообщение получено: b'\\x89PNG\\r'\n",
      "----------------------------------------------------------\n",
      "Изображение записано\n",
      "Шум добавлен\n",
      "Изображение с шумом записано\n",
      "----------------------------------------------------------\n",
      "Фильтр использован для изображения\n",
      "----------------------------------------------------------\n",
      "Изображение преобразовано и отправлено\n",
      "Соединение разорвано\n"
     ]
    }
   ],
   "source": [
    "server = socket.socket(socket.AF_INET, socket.SOCK_STREAM)\n",
    "server.bind(('', PORT))\n",
    "server.listen()\n",
    "\n",
    "while True:\n",
    "    print(\"Ожидаем соединения\")\n",
    "    conn, addr = server.accept()\n",
    "    try:\n",
    "        if conn:\n",
    "            mess = conn.recv(4_194_304)\n",
    "            mess_de = mess\n",
    "            print(f'Сообщение получено: {mess_de[:5]}')\n",
    "            print('----------------------------------------------------------')\n",
    "            file = open('server_images/to_server.jpg', mode='wb')\n",
    "            file.write(mess_de)\n",
    "            file.close()\n",
    "            print('Изображение записано')\n",
    "\n",
    "            #код для создания шума\n",
    "            Im1 = open('server_images/to_server.jpg', mode='rb')\n",
    "            im1 = Im1.read(4_194_304)\n",
    "            im1 = bytesToRGB(im1)\n",
    "            im1 = noise(im1)\n",
    "            print('Шум добавлен')\n",
    "            \n",
    "            im = Image.fromarray(im1)\n",
    "            buf = io.BytesIO()\n",
    "            im.save(buf, format='PNG')\n",
    "            byte_im = buf.getvalue()\n",
    "            img_file = open('server_images/to_server1.png', 'wb')\n",
    "            img_file.write(byte_im)\n",
    "            img_file.close()\n",
    "            Im1.close()\n",
    "            print('Изображение с шумом записано')\n",
    "            print('----------------------------------------------------------')\n",
    "            \n",
    "            #код для фильтрации изображения\n",
    "            client_file = open('server_images/to_server1.png', 'rb')\n",
    "            client_im = client_file.read(4_194_304)\n",
    "            client_file.close()\n",
    "            cl_ar = bytesToRGB(client_im)\n",
    "            cl_ar1 = cl_ar.reshape(cl_ar.shape[0]*cl_ar.shape[1]*cl_ar.shape[2])\n",
    "            cl_ar1 = median_filter(cl_ar1.reshape(cl_ar1.shape[0]//3, 3))\n",
    "            cl_ar1 = cl_ar1.reshape(1280, 1920, 3)\n",
    "            cl_im = Image.fromarray(cl_ar1)\n",
    "            cl_buf = io.BytesIO()\n",
    "            cl_im.save(cl_buf, format='PNG')\n",
    "            cl_byte = cl_buf.getvalue()\n",
    "            cl_fin = open('server_images/to_server_final.png', mode='wb')\n",
    "            cl_fin.write(cl_byte)\n",
    "            cl_fin.close()\n",
    "            print('Фильтр использован для изображения')\n",
    "            \n",
    "            to_client = open('server_images/to_server_final.png', mode='rb')\n",
    "            mess_new = to_client.read(4_194_304)\n",
    "            to_client.close()\n",
    "            conn.sendall(mess_new)\n",
    "            print('----------------------------------------------------------')\n",
    "            print(\"Изображение преобразовано и отправлено\")\n",
    "            \n",
    "    finally:\n",
    "        conn.close()\n",
    "        print(\"Соединение разорвано\")\n",
    "        break"
   ]
  }
 ],
 "metadata": {
  "kernelspec": {
   "display_name": "Python 3 (ipykernel)",
   "language": "python",
   "name": "python3"
  },
  "language_info": {
   "codemirror_mode": {
    "name": "ipython",
    "version": 3
   },
   "file_extension": ".py",
   "mimetype": "text/x-python",
   "name": "python",
   "nbconvert_exporter": "python",
   "pygments_lexer": "ipython3",
   "version": "3.9.2"
  }
 },
 "nbformat": 4,
 "nbformat_minor": 5
}
