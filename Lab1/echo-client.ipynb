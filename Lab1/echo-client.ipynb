{
 "cells": [
  {
   "cell_type": "code",
   "execution_count": 5,
   "id": "18cec40c",
   "metadata": {},
   "outputs": [],
   "source": [
    "import socket\n",
    "import numpy as np\n",
    "import time\n",
    "from PIL import Image, ImageFilter"
   ]
  },
  {
   "cell_type": "code",
   "execution_count": 6,
   "id": "ea67e89e",
   "metadata": {},
   "outputs": [],
   "source": [
    "HOST = 'localhost' \n",
    "PORT = 63326"
   ]
  },
  {
   "cell_type": "code",
   "execution_count": 7,
   "id": "ed3caa5c",
   "metadata": {},
   "outputs": [
    {
     "name": "stdout",
     "output_type": "stream",
     "text": [
      "Соединение с сервером установлено!\n",
      "\n",
      "Отправка сообщения...\n",
      "\n",
      "Входной размер изображения: (1920, 1280)\n",
      "\n",
      "Сообщение отправлено: \"b'\\x89PNG\\r'...\"\n",
      "------------------------------------------------------------\n",
      "Сообщение получено: \"b'\\x89PNG\\r'...\"\n",
      "------------------------------------------------------------\n",
      "Загрузка изображения...\n",
      "------------------------------------------------------------\n",
      "Изображение загружено!\n",
      "\n",
      "Выходной размер изображения: (1920, 1280)\n",
      "\n",
      "======================================\n",
      "Файл был передан без нарушений размера - V\n",
      "======================================\n",
      ".\n",
      ".\n",
      ".\n",
      "Соединение отменено\n"
     ]
    }
   ],
   "source": [
    "client = socket.socket(socket.AF_INET, socket.SOCK_STREAM)\n",
    "client.connect((HOST, PORT))\n",
    "print('Соединение с сервером установлено!')\n",
    "print()\n",
    "\n",
    "try:\n",
    "    print('Отправка сообщения...')\n",
    "    file = open('images/image2.png', mode='rb')\n",
    "    mess = file.read(4_194_304)\n",
    "    file.close\n",
    "    im = Image.open('images/image2.png')\n",
    "    print()\n",
    "    print(f\"Входной размер изображения: {im.size}\")\n",
    "    print()\n",
    "    mess_en = mess\n",
    "    client.sendall(mess_en)\n",
    "    print(f'Сообщение отправлено: \"{mess[:5]}...\"')\n",
    "    print('------------------------------------------------------------')\n",
    "    mess_from = client.recv(4_194_304)\n",
    "    print(f'Сообщение получено: \"{mess_from[:5]}...\"')\n",
    "    file = open('images/downloaded_img.png', mode=\"wb\")\n",
    "    print('------------------------------------------------------------')\n",
    "    print(\"Загрузка изображения...\")\n",
    "    file.write(mess_from)\n",
    "    file.close()\n",
    "    print('------------------------------------------------------------')\n",
    "    print(\"Изображение загружено!\")\n",
    "    im1 = Image.open('images/downloaded_img.png')\n",
    "    print()\n",
    "    print(f\"Выходной размер изображения: {im1.size}\")\n",
    "    print()\n",
    "    \n",
    "    if im.size == im1.size:\n",
    "        print('======================================')\n",
    "        print('Файл был передан без нарушений размера - V')\n",
    "        print('======================================')\n",
    "    else:\n",
    "        print('======================================')\n",
    "        print('При передаче файл был повреждён - X')\n",
    "        print('======================================')\n",
    "            \n",
    "finally:\n",
    "    client.close()\n",
    "    print('.')\n",
    "    print('.')\n",
    "    print('.')\n",
    "    print(\"Соединение отменено\")\n",
    "\n",
    "\n",
    "\n",
    "    \n",
    "\n",
    "\n",
    "\n"
   ]
  },
  {
   "cell_type": "code",
   "execution_count": null,
   "id": "f908e292",
   "metadata": {},
   "outputs": [],
   "source": []
  }
 ],
 "metadata": {
  "kernelspec": {
   "display_name": "Python 3 (ipykernel)",
   "language": "python",
   "name": "python3"
  },
  "language_info": {
   "codemirror_mode": {
    "name": "ipython",
    "version": 3
   },
   "file_extension": ".py",
   "mimetype": "text/x-python",
   "name": "python",
   "nbconvert_exporter": "python",
   "pygments_lexer": "ipython3",
   "version": "3.9.2"
  }
 },
 "nbformat": 4,
 "nbformat_minor": 5
}
