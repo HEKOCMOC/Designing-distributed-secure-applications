{
 "cells": [
  {
   "cell_type": "code",
   "execution_count": 1,
   "id": "18cec40c",
   "metadata": {},
   "outputs": [],
   "source": [
    "import socket\n",
    "import numpy as np\n",
    "import time\n",
    "from PIL import Image, ImageFilter"
   ]
  },
  {
   "cell_type": "code",
   "execution_count": 28,
   "id": "ea67e89e",
   "metadata": {},
   "outputs": [],
   "source": [
    "HOST = 'localhost' \n",
    "PORT = 41834"
   ]
  },
  {
   "cell_type": "code",
   "execution_count": 29,
   "id": "ed3caa5c",
   "metadata": {},
   "outputs": [
    {
     "name": "stdout",
     "output_type": "stream",
     "text": [
      "Соединение с сервером установлено\n",
      "Отправленное сообщение: \"b'\\x89PNG\\r'\"\n",
      "------------------------------------------------------------\n",
      "Полученное сообщение: \"b'\\x89PNG\\r'\"\n",
      "------------------------------------------------------------\n",
      "Изображение получено\n",
      "Соединение разорвано\n"
     ]
    }
   ],
   "source": [
    "client = socket.socket(socket.AF_INET, socket.SOCK_STREAM)\n",
    "client.connect((HOST, PORT))\n",
    "print('Соединение с сервером установлено')\n",
    "\n",
    "try:\n",
    "    file = open('images/image2.png', mode='rb')\n",
    "    mess = file.read(4_194_304)\n",
    "    file.close\n",
    "    mess_en = mess\n",
    "    client.sendall(mess_en)\n",
    "    print(f'Отправленное сообщение: \"{mess[:5]}\"')\n",
    "    print('------------------------------------------------------------')\n",
    "    mess_from = client.recv(4_194_304)\n",
    "    print(f'Полученное сообщение: \"{mess_from[:5]}\"')\n",
    "    print('------------------------------------------------------------')\n",
    "    file = open('images/to_client.png', mode=\"wb\")\n",
    "    file.write(mess_from)\n",
    "    file.close()\n",
    "    print(\"Изображение получено\")\n",
    "            \n",
    "finally:\n",
    "    client.close()\n",
    "    print(\"Соединение разорвано\")\n",
    "\n",
    "\n",
    "\n",
    "    \n",
    "\n",
    "\n",
    "\n"
   ]
  },
  {
   "cell_type": "code",
   "execution_count": null,
   "id": "a0790f7b",
   "metadata": {},
   "outputs": [],
   "source": []
  }
 ],
 "metadata": {
  "kernelspec": {
   "display_name": "Python 3 (ipykernel)",
   "language": "python",
   "name": "python3"
  },
  "language_info": {
   "codemirror_mode": {
    "name": "ipython",
    "version": 3
   },
   "file_extension": ".py",
   "mimetype": "text/x-python",
   "name": "python",
   "nbconvert_exporter": "python",
   "pygments_lexer": "ipython3",
   "version": "3.9.2"
  }
 },
 "nbformat": 4,
 "nbformat_minor": 5
}
