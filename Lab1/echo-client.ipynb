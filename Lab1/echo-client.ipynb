{
 "cells": [
  {
   "cell_type": "code",
   "execution_count": 1,
   "id": "18cec40c",
   "metadata": {},
   "outputs": [],
   "source": [
    "import socket\n",
    "import numpy as np\n",
    "import time"
   ]
  },
  {
   "cell_type": "code",
   "execution_count": 15,
   "id": "ea67e89e",
   "metadata": {},
   "outputs": [],
   "source": [
    "HOST = 'localhost' \n",
    "PORT = 60048"
   ]
  },
  {
   "cell_type": "code",
   "execution_count": 16,
   "id": "ed3caa5c",
   "metadata": {},
   "outputs": [
    {
     "name": "stdout",
     "output_type": "stream",
     "text": [
      "Соединение с сервером установлено\n",
      "Отправленное сообщение: \"Hi\"\n",
      "\n",
      "Полученное сообщение: \"iH\"\n",
      "Соединение разорвано\n"
     ]
    }
   ],
   "source": [
    "client = socket.socket(socket.AF_INET, socket.SOCK_STREAM)\n",
    "client.connect((HOST, PORT))\n",
    "print('Соединение с сервером установлено')\n",
    "\n",
    "try:\n",
    "    mess = 'Hi'\n",
    "    mess_en = mess.encode()\n",
    "    client.sendall(mess_en)\n",
    "    print(f'Отправленное сообщение: \"{mess}\"')\n",
    "    print('')\n",
    "    mess_from = client.recv(4096)\n",
    "    mess_from_de = mess_from.decode()\n",
    "    print(f'Полученное сообщение: \"{mess_from_de}\"')\n",
    "            \n",
    "finally:\n",
    "    client.close()\n",
    "    print(\"Соединение разорвано\")\n",
    "\n",
    "\n",
    "\n",
    "    \n",
    "\n",
    "\n",
    "\n"
   ]
  },
  {
   "cell_type": "code",
   "execution_count": null,
   "id": "1f7c5230",
   "metadata": {},
   "outputs": [],
   "source": [
    "#Отправленное изображения\n",
    "file = open('images/image.png', mode=\"rb\")\n",
    "data = file.read(4096)\n",
    "try:\n",
    "    sh1 = 0\n",
    "    print('-'*10)\n",
    "    print(f'Операция отправки - {sh1}')\n",
    "    while data:\n",
    "        sh1 += 1\n",
    "        print(f'Операция отправки - {sh1}')\n",
    "        client.send(data)\n",
    "        data = file.read(4096)\n",
    "    file.close()\n",
    "\n",
    "    print('-'*10)\n",
    "    print(\"Изображение отправлено\")\n",
    "    data_text = client.recv(2048)\n",
    "    mess = data_text.decode()\n",
    "    print(f\"Полученное сообщение: {mess}\")\n",
    "finally:\n",
    "    client.close()\n",
    "    print(\"Операция завершена #1\")\n"
   ]
  }
 ],
 "metadata": {
  "kernelspec": {
   "display_name": "Python 3 (ipykernel)",
   "language": "python",
   "name": "python3"
  },
  "language_info": {
   "codemirror_mode": {
    "name": "ipython",
    "version": 3
   },
   "file_extension": ".py",
   "mimetype": "text/x-python",
   "name": "python",
   "nbconvert_exporter": "python",
   "pygments_lexer": "ipython3",
   "version": "3.9.2"
  }
 },
 "nbformat": 4,
 "nbformat_minor": 5
}
